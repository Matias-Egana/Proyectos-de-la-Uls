{
  "nbformat": 4,
  "nbformat_minor": 0,
  "metadata": {
    "colab": {
      "provenance": []
    },
    "kernelspec": {
      "name": "python3",
      "display_name": "Python 3"
    },
    "language_info": {
      "name": "python"
    }
  },
  "cells": [
    {
      "cell_type": "markdown",
      "source": [
        "# **Se recomienda ejecutar este notebook por Google Colab**\n",
        "\n",
        "##**Integrantes**\n",
        "\n",
        "\n",
        "*   Benjamín López\n",
        "*   Matías Egaña\n",
        "\n"
      ],
      "metadata": {
        "id": "vCjmI8Bhz6lB"
      }
    },
    {
      "cell_type": "code",
      "execution_count": null,
      "metadata": {
        "id": "EiQ4rUQRAY4J"
      },
      "outputs": [],
      "source": [
        "import math"
      ]
    },
    {
      "cell_type": "markdown",
      "source": [
        "# **Métricas de desempeño en un sistema de colas MMs.**"
      ],
      "metadata": {
        "id": "gBsvPe3ZAmZs"
      }
    },
    {
      "cell_type": "markdown",
      "source": [
        "# 1) Factor de utilización."
      ],
      "metadata": {
        "id": "36uo6sLPCYpp"
      }
    },
    {
      "cell_type": "markdown",
      "source": [
        "Fórmula para calcular ρ.\n",
        "\n",
        "![image.png](data:image/png;base64,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)"
      ],
      "metadata": {
        "id": "uRcamhCBUaKJ"
      }
    },
    {
      "cell_type": "code",
      "source": [
        "def rho(lmbda, mu, servers):\n",
        "  return lmbda / (servers * mu)"
      ],
      "metadata": {
        "id": "9-naCFmiCkPv"
      },
      "execution_count": null,
      "outputs": []
    },
    {
      "cell_type": "markdown",
      "source": [
        "# 2) Probabilidad de que el sistema esté vacío."
      ],
      "metadata": {
        "id": "W-yE-jc2Auno"
      }
    },
    {
      "cell_type": "markdown",
      "source": [
        "\n",
        "Fórmula para calcular P0.\n",
        "\n",
        "![p0_mms.png](data:image/png;base64,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)"
      ],
      "metadata": {
        "id": "TeCwinILUN1y"
      }
    },
    {
      "cell_type": "code",
      "source": [
        "# Versión adaptada.\n",
        "def P0(lmbda, mu, servers):\n",
        "  a = 0\n",
        "  lmbda_mu_div = lmbda / mu\n",
        "  for i in range(0, servers):\n",
        "    a += (lmbda_mu_div)**i / math.factorial(i)\n",
        "\n",
        "  b = (lmbda_mu_div)**servers / math.factorial(servers)\n",
        "  c = 1 / (1 - rho(lmbda, mu, servers))\n",
        "  return 1 / (a + b * c)"
      ],
      "metadata": {
        "id": "LMuJm29HAlfa"
      },
      "execution_count": null,
      "outputs": []
    },
    {
      "cell_type": "markdown",
      "source": [
        "# 3) Número promedio de clientes en la cola."
      ],
      "metadata": {
        "id": "eITrWkkvc8yd"
      }
    },
    {
      "cell_type": "markdown",
      "source": [
        "\n",
        "Fórmula para calcular el Lq.\n",
        "\n",
        "![image.png](data:image/png;base64,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)"
      ],
      "metadata": {
        "id": "KjnOlRXmUqGl"
      }
    },
    {
      "cell_type": "code",
      "source": [
        "def Lq(lmbda, mu, servers):\n",
        "  a = ((servers)**servers)*( rho(lmbda,mu,servers)**(servers+1))* P0(lmbda,mu,servers)\n",
        "  b = (math.factorial(servers))*((1-rho(lmbda,mu,servers))**2)\n",
        "\n",
        "  return a/b"
      ],
      "metadata": {
        "id": "t5xad-dlHAdE"
      },
      "execution_count": null,
      "outputs": []
    },
    {
      "cell_type": "markdown",
      "source": [
        "# 4) Tiempo promedio de espera en la cola."
      ],
      "metadata": {
        "id": "PGiCApmu5eyB"
      }
    },
    {
      "cell_type": "markdown",
      "source": [
        "Fórmula para calcular el Wq.\n",
        "\n",
        "![image.png](data:image/png;base64,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)\n",
        "\n"
      ],
      "metadata": {
        "id": "IGBmWVzYVFuj"
      }
    },
    {
      "cell_type": "code",
      "source": [
        "def Wq(lmbda,mu,servers):\n",
        "  return Lq(lmbda,mu,servers)/lmbda"
      ],
      "metadata": {
        "id": "lICbYG1M5lYZ"
      },
      "execution_count": null,
      "outputs": []
    },
    {
      "cell_type": "markdown",
      "source": [
        "# 5) Tiempo promedio transcurrido en el sistema."
      ],
      "metadata": {
        "id": "xgBu_-Qm7HJ-"
      }
    },
    {
      "cell_type": "markdown",
      "source": [
        "\n",
        "Fórmula para calcular W.\n",
        "\n",
        "![image.png](data:image/png;base64,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)"
      ],
      "metadata": {
        "id": "0zy-ovn7VdwX"
      }
    },
    {
      "cell_type": "code",
      "source": [
        "def W(lmbda,mu,servers):\n",
        "  return Wq(lmbda,mu,servers) + (1/mu)"
      ],
      "metadata": {
        "id": "1wBFg-de7VOA"
      },
      "execution_count": null,
      "outputs": []
    },
    {
      "cell_type": "markdown",
      "source": [
        "# 6) Número medio de clientes en el sistema"
      ],
      "metadata": {
        "id": "bAgT0emD8bqB"
      }
    },
    {
      "cell_type": "markdown",
      "source": [
        "\n",
        "Fórmula para calcular L.\n",
        "\n",
        "![image.png](data:image/png;base64,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)"
      ],
      "metadata": {
        "id": "cFYYOkv7VqvF"
      }
    },
    {
      "cell_type": "code",
      "source": [
        "def L(lmbda,mu,servers):\n",
        "  _W = W(lmbda,mu,servers)\n",
        "  return lmbda*_W"
      ],
      "metadata": {
        "id": "6-CTnYbu8i9W"
      },
      "execution_count": null,
      "outputs": []
    },
    {
      "cell_type": "markdown",
      "source": [
        "Anteriormente se agregaron todas las formúlas, para la metrica de desempeño, pero ahora la aplicaremos a un ejemplo, propuesto en el classroom."
      ],
      "metadata": {
        "id": "V1m-eSOe79vw"
      }
    },
    {
      "cell_type": "markdown",
      "source": [
        "En una librería se dispone de 3 máquinas fotocopiadoras\n",
        "a disposición del público, Cada máquina es capaz de servir, por\n",
        "término medio, 8 trabajos cada hora, A la librería llegan como\n",
        "promedio 5 clientes a la hora,\n",
        "\n",
        "Parámetros del sistema: **λ = 5 clientes/h**, **μ = 8 clientes/h**, **s = 3\n",
        "servidores**. El sistema no se satura porque ρ<1.\n",
        "\n",
        "Se pide.\n",
        "\n",
        "a) ¿Cuál es la probabilidad de que las tres máquinas estén libres a la vez?\n",
        "\n",
        "b) ¿Cuál es el número medio de clientes en la cola?\n",
        "\n",
        "c) ¿Cuál es el tiempo medio de espera en la cola?\n",
        "\n",
        "d) ¿Cuál es el tiempo medio de espera en el sistema?\n",
        "\n",
        "e) ¿Cuál es el número medio de clientes en el sistema?"
      ],
      "metadata": {
        "id": "rhsttj4w8ZcR"
      }
    },
    {
      "cell_type": "markdown",
      "source": [
        "Especificar tasa de llegada(λ), atención(μ) y cantidad de servidores."
      ],
      "metadata": {
        "id": "-vUuUuBNCBZK"
      }
    },
    {
      "cell_type": "code",
      "source": [
        "lmbda = 5\n",
        "mu = 8\n",
        "\"Tasa llegada de clientes\"\n",
        "\"lmbda = clientes / unidad de tiempo\"\n",
        "servers = 3"
      ],
      "metadata": {
        "id": "jczvu7N_CF1e"
      },
      "execution_count": null,
      "outputs": []
    },
    {
      "cell_type": "markdown",
      "source": [
        "Calculamos ρ."
      ],
      "metadata": {
        "id": "-U0F8mnMZD0t"
      }
    },
    {
      "cell_type": "code",
      "source": [
        "rho(lmbda, mu, servers)"
      ],
      "metadata": {
        "colab": {
          "base_uri": "https://localhost:8080/"
        },
        "id": "VjO2_g_MC8c6",
        "outputId": "8118766e-ebf0-4ed9-d9c0-968a17d99a61"
      },
      "execution_count": null,
      "outputs": [
        {
          "output_type": "execute_result",
          "data": {
            "text/plain": [
              "0.20833333333333334"
            ]
          },
          "metadata": {},
          "execution_count": 49
        }
      ]
    },
    {
      "cell_type": "markdown",
      "source": [
        "**a) ¿Cuál es la probabilidad de que las tres máquinas estén libres a la vez?**"
      ],
      "metadata": {
        "id": "SDjbRK_pK8GF"
      }
    },
    {
      "cell_type": "code",
      "source": [
        "valorP0 = P0(lmbda,mu,servers)\n",
        "valorP0Porcentaje = valorP0 * 100\n",
        "print(str(valorP0)+ \" o \" + str(valorP0Porcentaje)+ \" % de probabilidad que el sistema este vacío\")"
      ],
      "metadata": {
        "colab": {
          "base_uri": "https://localhost:8080/"
        },
        "id": "LnGiegjaG-F2",
        "outputId": "8b10aa9f-dc1b-4f67-a16e-074024941d7e"
      },
      "execution_count": null,
      "outputs": [
        {
          "output_type": "stream",
          "name": "stdout",
          "text": [
            "0.5342706502636204 o 53.427065026362044 % de probabilidad que el sistema este vacío\n"
          ]
        }
      ]
    },
    {
      "cell_type": "markdown",
      "source": [
        "**b)  ¿Cuál es el número medio de clientes en la cola?**"
      ],
      "metadata": {
        "id": "6o9Y_KoVMCgN"
      }
    },
    {
      "cell_type": "code",
      "source": [
        "valorLq = Lq(lmbda,mu,servers)\n",
        "print( str(valorLq)+\" o \"+ str(math.trunc(valorLq))+\" Clientes\")"
      ],
      "metadata": {
        "colab": {
          "base_uri": "https://localhost:8080/"
        },
        "id": "7mTKa7j1yVXr",
        "outputId": "1529a019-cc02-4d3b-a678-5954b8b2d8e6"
      },
      "execution_count": null,
      "outputs": [
        {
          "output_type": "stream",
          "name": "stdout",
          "text": [
            "0.007226436037369349 o 0 Clientes\n"
          ]
        }
      ]
    },
    {
      "cell_type": "markdown",
      "source": [
        "**c) ¿Cuál es el tiempo medio de espera en la cola?**"
      ],
      "metadata": {
        "id": "cf6VeWr-NYmS"
      }
    },
    {
      "cell_type": "code",
      "source": [
        "valorWq = Wq(lmbda,mu,servers)\n",
        "valorWqMinu = valorWq * 60\n",
        "print(str(valorWq)+\" Horas\" + \" o \"+ str(valorWqMinu) +\" Minutos \")"
      ],
      "metadata": {
        "colab": {
          "base_uri": "https://localhost:8080/"
        },
        "id": "wSxntvV35zEy",
        "outputId": "1c81b732-02e9-4bbe-ce83-133df5b0d99e"
      },
      "execution_count": null,
      "outputs": [
        {
          "output_type": "stream",
          "name": "stdout",
          "text": [
            "0.0014452872074738699 Horas o 0.08671723244843219 Minutos \n"
          ]
        }
      ]
    },
    {
      "cell_type": "markdown",
      "source": [
        "**d) ¿Cuál es el tiempo medio de espera en el sistema?**"
      ],
      "metadata": {
        "id": "bIGwF7NiOLX4"
      }
    },
    {
      "cell_type": "code",
      "source": [
        "valorW = W(lmbda,mu,servers)\n",
        "valorWMinu = valorW * 60\n",
        "print(str(valorW)+\" Horas\" + \" o \"+ str(valorWMinu) +\" Minutos \")"
      ],
      "metadata": {
        "colab": {
          "base_uri": "https://localhost:8080/"
        },
        "id": "3lLrlnOh7p--",
        "outputId": "148c4e47-29d6-49b4-b388-663c5576ac2d"
      },
      "execution_count": null,
      "outputs": [
        {
          "output_type": "stream",
          "name": "stdout",
          "text": [
            "0.12644528720747386 Horas o 7.586717232448431 Minutos \n"
          ]
        }
      ]
    },
    {
      "cell_type": "markdown",
      "source": [
        "**e) ¿Cuál es el número medio de clientes en el sistema?**"
      ],
      "metadata": {
        "id": "xtcoXAEtOfm3"
      }
    },
    {
      "cell_type": "code",
      "source": [
        "valorL = L(lmbda,mu,servers)\n",
        "print( str(valorL)+\" o \"+ str(math.trunc(valorL))+\" Clientes\")"
      ],
      "metadata": {
        "colab": {
          "base_uri": "https://localhost:8080/"
        },
        "id": "8MedezX-8_R1",
        "outputId": "f57fb817-c8e0-4fdb-8f03-aebcee23ab4c"
      },
      "execution_count": null,
      "outputs": [
        {
          "output_type": "stream",
          "name": "stdout",
          "text": [
            "0.6322264360373693 o 0 Clientes\n"
          ]
        }
      ]
    },
    {
      "cell_type": "markdown",
      "source": [
        "#**Ejercicio aplicado**\n",
        "El cine Mega Multiplex tiene una tienda en concesión con tres empleados que atienden a los clientes por un riguroso orden de llegada. El tiempo de servicio por cliente se distribuye exponencialmente, con un promedio de 2 minutos por cliente. Los clientes de la concesión esperan en un amplio vestíbulo, formando una sola fila, y sus llegadas tiene una distribución de Poisson, con un promedio de 81 clientes por hora. Se exhiben cortos durante 10 minutos antes del inicio de cada función. Si el tiempo promedio que pasan en el área de concesión rebasa los\n",
        "10 minutos, los clientes se sienten insatisfechos.\n",
        "Se pide.\n",
        "\n",
        "a) ¿Cuál es la utilización promedio de los empleados de la consesión?\n",
        "\n",
        "b) ¿Cuál es el tiempo promedio que pasan los clientes en el área de la consesión?\n"
      ],
      "metadata": {
        "id": "4TjO7R7z8SWg"
      }
    },
    {
      "cell_type": "markdown",
      "source": [
        "Apartir de la problematica planteada anteriormente se obtienen los siguientes datos:\n",
        "\n",
        "\n",
        "N° Servidores -> **servers = 3 Empleados.**\n",
        "\n",
        "Tasa de llegada -> **λ = 81 Clientes/hora.**\n",
        "\n",
        "Tasa de atención -> **μ = 2 Minuto/Cliente.**\n",
        "#**Convertir la tasa de atencion a clientes/hora**\n",
        "Tiempo promedio de servico -> **1/μ = 1/2 -> 0.5 clientes/minutos -> 0.5 x 60 = 30 Clientes/hora.**\n",
        "\n",
        "Tasa de atención -> **μ = 30 Cliente/hora.**\n",
        "\n",
        "\n",
        "\n",
        "\n",
        "\n"
      ],
      "metadata": {
        "id": "0PJsPXgE8-Bw"
      }
    },
    {
      "cell_type": "code",
      "source": [
        "servers = 3\n",
        "lmbda = 81\n",
        "mu = 30"
      ],
      "metadata": {
        "id": "EPGSszi2O5cI"
      },
      "execution_count": null,
      "outputs": []
    },
    {
      "cell_type": "markdown",
      "source": [
        "**a) ¿Cuál es la utilización promedio de los empleados de la consesión?**\n",
        "\n",
        "Para esto se debe sacar el factor de utilización, el cual tenemos definido anteriormente como la función \"rho\" y solo le asiganaremos los nuevos valores iniciales."
      ],
      "metadata": {
        "id": "LUlelVJvPFD3"
      }
    },
    {
      "cell_type": "code",
      "source": [
        "# 1.\n",
        "valorRho = rho(lmbda,mu,servers)\n",
        "valorRhoPorcentaje = valorRho * 100\n",
        "print(str(valorRho)+ \" o \" + str(valorRhoPorcentaje)+ \"% de utilización\")"
      ],
      "metadata": {
        "colab": {
          "base_uri": "https://localhost:8080/"
        },
        "id": "74cb8J0pPn8i",
        "outputId": "2f0aa7e3-1793-42dd-88e3-41f8923fefd6"
      },
      "execution_count": null,
      "outputs": [
        {
          "output_type": "stream",
          "name": "stdout",
          "text": [
            "0.9 o 90.0% de utilización\n"
          ]
        }
      ]
    },
    {
      "cell_type": "markdown",
      "source": [
        "**b) ¿Cuál es el tiempo promedio que pasan los clientes en el área de la consesión?**"
      ],
      "metadata": {
        "id": "-FktlToASVvN"
      }
    },
    {
      "cell_type": "markdown",
      "source": [
        "\n",
        "Para calcular lo que nos piden necesitamos la fórmula de tiempo promedio(W),  pero en esta hace falta información (P0,Lq,Wq), las cuales se pueden obtener con las fórmulas anterior mostradas.\n",
        "\n"
      ],
      "metadata": {
        "id": "vra2e5BTS3MB"
      }
    },
    {
      "cell_type": "code",
      "source": [
        "#2\n",
        "valorP0 = P0(lmbda,mu,servers)\n",
        "valorP0Porcentaje = valorP0 * 100\n",
        "print(str(valorP0)+ \" o \" + str(valorP0Porcentaje)+ \" % Probabilidad que el sistema este vacío\")\n"
      ],
      "metadata": {
        "colab": {
          "base_uri": "https://localhost:8080/"
        },
        "id": "neTOMT5KSmrg",
        "outputId": "a5fe917c-76e3-4cb0-ac5d-656b3ca662e4"
      },
      "execution_count": null,
      "outputs": [
        {
          "output_type": "stream",
          "name": "stdout",
          "text": [
            "0.024906600249065998 o 2.4906600249066 % Probabilidad que el sistema este vacío\n"
          ]
        }
      ]
    },
    {
      "cell_type": "markdown",
      "source": [
        "Ahora con los datos obtenido debemos calcular el número promedio de clientes en la fila."
      ],
      "metadata": {
        "id": "rWJUzK1y1hFN"
      }
    },
    {
      "cell_type": "code",
      "source": [
        "#3\n",
        "valorLq = Lq(lmbda,mu,servers)\n",
        "print(str(valorLq)+\" o \"+str(math.trunc(valorLq))+\" Clientes\")\n"
      ],
      "metadata": {
        "colab": {
          "base_uri": "https://localhost:8080/"
        },
        "id": "Cbf6jYYA1oLf",
        "outputId": "a0614d9a-3e9f-44ed-844b-6042303a8a3c"
      },
      "execution_count": null,
      "outputs": [
        {
          "output_type": "stream",
          "name": "stdout",
          "text": [
            "7.353549190535495 o 7 Clientes\n"
          ]
        }
      ]
    },
    {
      "cell_type": "markdown",
      "source": [
        "Una vez obtenido el número promedio de clientes, se procede a calcular el tiempo promedio de espera en la fila."
      ],
      "metadata": {
        "id": "lyZh_vv74Qq1"
      }
    },
    {
      "cell_type": "code",
      "source": [
        "#4\n",
        "valorWq = Wq(lmbda,mu,servers)\n",
        "valorWqMinu = valorLq * 60\n",
        "print(str(valorWq)+ \" Horas o \" + str(valorWqMinu)+\" Minutos\")\n"
      ],
      "metadata": {
        "colab": {
          "base_uri": "https://localhost:8080/"
        },
        "id": "JAzlIJ-j4eIV",
        "outputId": "deef79c9-f514-43c2-e4df-6b6438731a03"
      },
      "execution_count": null,
      "outputs": [
        {
          "output_type": "stream",
          "name": "stdout",
          "text": [
            "0.09078455790784562 Horas o 441.2129514321297 Minutos\n"
          ]
        }
      ]
    },
    {
      "cell_type": "markdown",
      "source": [
        "Finalmente, ya que tenemos los datos requerido. Procederemos a calcular lo que nos piden."
      ],
      "metadata": {
        "id": "gCgUU-7E6OwF"
      }
    },
    {
      "cell_type": "code",
      "source": [
        "#5\n",
        "valorW = W(lmbda,mu,servers)\n",
        "valorWMinu = valorW * 60\n",
        "print(str(valorW)+ \" Horas o \" + str(valorWMinu)+\" Minutos\")"
      ],
      "metadata": {
        "colab": {
          "base_uri": "https://localhost:8080/"
        },
        "id": "pHnj6E6A6ZSt",
        "outputId": "b7871cad-f895-447c-8c71-3ddee5fbe519"
      },
      "execution_count": null,
      "outputs": [
        {
          "output_type": "stream",
          "name": "stdout",
          "text": [
            "0.12411789124117895 Horas o 7.447073474470737 Minutos\n"
          ]
        }
      ]
    },
    {
      "cell_type": "markdown",
      "source": [
        "**Obteniendo como resultado final lo fórmulado anteriormente.**"
      ],
      "metadata": {
        "id": "Ob9_b1zxYQWp"
      }
    }
  ]
}