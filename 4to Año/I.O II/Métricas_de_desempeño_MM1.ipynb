{
  "nbformat": 4,
  "nbformat_minor": 0,
  "metadata": {
    "colab": {
      "provenance": []
    },
    "kernelspec": {
      "name": "python3",
      "display_name": "Python 3"
    },
    "language_info": {
      "name": "python"
    }
  },
  "cells": [
    {
      "cell_type": "markdown",
      "source": [
        "# **Se recomienda ejecutar este notebook por Google Colab**\n",
        "\n",
        "##**Integrantes:**\n",
        "\n",
        "*   Benjamín López\n",
        "*   Matías Egaña\n",
        "\n",
        "\n",
        "\n"
      ],
      "metadata": {
        "id": "TtrCddPrzsda"
      }
    },
    {
      "cell_type": "code",
      "source": [
        "import math\n",
        "import matplotlib.pyplot as plt\n",
        "import pandas as pd\n",
        "import numpy as np"
      ],
      "metadata": {
        "id": "RDrsdGaIUO0g"
      },
      "execution_count": null,
      "outputs": []
    },
    {
      "cell_type": "markdown",
      "source": [
        "# **Cálculo de métricas de desempeño en un sistema de colas MM1**"
      ],
      "metadata": {
        "id": "rsBvIeUYQhpp"
      }
    },
    {
      "cell_type": "markdown",
      "source": [
        "## Ingresar tasa de llegada (λ) y de atención (μ):"
      ],
      "metadata": {
        "id": "YpIuC9jwQxA9"
      }
    },
    {
      "cell_type": "code",
      "source": [
        "lmbda = 9\n",
        "mu = 12"
      ],
      "metadata": {
        "id": "ypbalnP2Qjl9"
      },
      "execution_count": null,
      "outputs": []
    },
    {
      "cell_type": "markdown",
      "source": [
        "## 1) Tiempo medio de clientes en la cola."
      ],
      "metadata": {
        "id": "XkfHUoFURKBA"
      }
    },
    {
      "cell_type": "markdown",
      "source": [
        "La fórmula para obtener el valor de dicho tiempo es:\n",
        "\n",
        "![wq.png](data:image/png;base64,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)"
      ],
      "metadata": {
        "id": "L9JkFdUEYtU9"
      }
    },
    {
      "cell_type": "code",
      "source": [
        "def Wq(lmbda, mu):\n",
        "  return lmbda / (mu * (mu - lmbda))"
      ],
      "metadata": {
        "id": "VMgFUJJYRFai"
      },
      "execution_count": null,
      "outputs": []
    },
    {
      "cell_type": "code",
      "source": [
        "Wq(lmbda, mu)"
      ],
      "metadata": {
        "colab": {
          "base_uri": "https://localhost:8080/"
        },
        "id": "Sv5HutsnRcDK",
        "outputId": "31caa103-10bb-4b2a-d516-d910e8aae396"
      },
      "execution_count": null,
      "outputs": [
        {
          "output_type": "execute_result",
          "data": {
            "text/plain": [
              "0.25"
            ]
          },
          "metadata": {},
          "execution_count": 59
        }
      ]
    },
    {
      "cell_type": "markdown",
      "source": [
        "## 2) Tiempo medio de clientes en el sistema."
      ],
      "metadata": {
        "id": "On2mS7q5SDkT"
      }
    },
    {
      "cell_type": "markdown",
      "source": [
        "La fórmula para obtener el valor de dicho tiempo es:\n",
        "\n",
        "![ws.png](data:image/png;base64,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)"
      ],
      "metadata": {
        "id": "__2uFQmJZhDc"
      }
    },
    {
      "cell_type": "code",
      "source": [
        "def Ws(lmbda, mu):\n",
        "  wq = Wq(lmbda, mu)\n",
        "  ws = wq + (1 / mu)\n",
        "  return ws"
      ],
      "metadata": {
        "id": "Ja3_Kf0cRfq4"
      },
      "execution_count": null,
      "outputs": []
    },
    {
      "cell_type": "code",
      "source": [
        "Ws(lmbda, mu)"
      ],
      "metadata": {
        "colab": {
          "base_uri": "https://localhost:8080/"
        },
        "id": "FyMlKfmhSbRD",
        "outputId": "9b13e4a6-506a-4059-e738-bb3ecc4b72bc"
      },
      "execution_count": null,
      "outputs": [
        {
          "output_type": "execute_result",
          "data": {
            "text/plain": [
              "0.3333333333333333"
            ]
          },
          "metadata": {},
          "execution_count": 61
        }
      ]
    },
    {
      "cell_type": "markdown",
      "source": [
        "## 3) Probabilidad de tener **n** clientes en el sistema."
      ],
      "metadata": {
        "id": "gEjprQIiTJwE"
      }
    },
    {
      "cell_type": "markdown",
      "source": [
        "La probabilidad se obtiene con la siguiente fórmula, considerando n >= 0:\n",
        "\n",
        "![pn.png](data:image/png;base64,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)"
      ],
      "metadata": {
        "id": "WGwaeJ15Z-Ih"
      }
    },
    {
      "cell_type": "markdown",
      "source": [
        "Versión a) Obtener sólo probabilidad de **n**."
      ],
      "metadata": {
        "id": "51FnT3kodncz"
      }
    },
    {
      "cell_type": "code",
      "source": [
        "def Pn(n, lmbda, mu):\n",
        "  _rho = lmbda / mu\n",
        "  return (1 - (_rho)) * math.pow(_rho, n)"
      ],
      "metadata": {
        "id": "RIAaU5wzTeJA"
      },
      "execution_count": null,
      "outputs": []
    },
    {
      "cell_type": "markdown",
      "source": [
        "Ingrese valor para **n**."
      ],
      "metadata": {
        "id": "ed93U0AxOcuP"
      }
    },
    {
      "cell_type": "code",
      "source": [
        "n = 0"
      ],
      "metadata": {
        "id": "Wr8PxGqXOh5c"
      },
      "execution_count": null,
      "outputs": []
    },
    {
      "cell_type": "code",
      "source": [
        "Pn(n, lmbda, mu)"
      ],
      "metadata": {
        "colab": {
          "base_uri": "https://localhost:8080/"
        },
        "id": "GgOiRoV1OkDG",
        "outputId": "74d469d0-b1ab-4a02-c3b2-de584e86cd72"
      },
      "execution_count": null,
      "outputs": [
        {
          "output_type": "execute_result",
          "data": {
            "text/plain": [
              "0.25"
            ]
          },
          "metadata": {},
          "execution_count": 64
        }
      ]
    },
    {
      "cell_type": "markdown",
      "source": [
        "Versión b) Obtener probabilidades hasta **n**."
      ],
      "metadata": {
        "id": "1stzZLuZdrmF"
      }
    },
    {
      "cell_type": "code",
      "source": [
        "def Pn_range(n, lmbda, mu):\n",
        "  # n+1 para incluir el último valor\n",
        "  num_range = range(n+1)\n",
        "  # Se crea una lista con tuplas que representan (n, probabilidad)\n",
        "  pn_range = [(x, Pn(x, lmbda, mu)) for x in num_range]\n",
        "  return pn_range"
      ],
      "metadata": {
        "id": "2BIkM2fwdl9d"
      },
      "execution_count": null,
      "outputs": []
    },
    {
      "cell_type": "markdown",
      "source": [
        "Para esta versión, el valor límite de **n**."
      ],
      "metadata": {
        "id": "yu3p4ynfTSre"
      }
    },
    {
      "cell_type": "code",
      "source": [
        "n = 30"
      ],
      "metadata": {
        "id": "YgI76me-Sf3Q"
      },
      "execution_count": null,
      "outputs": []
    },
    {
      "cell_type": "code",
      "source": [
        "pn_range = Pn_range(n, lmbda, mu)\n",
        "pn_range"
      ],
      "metadata": {
        "colab": {
          "base_uri": "https://localhost:8080/"
        },
        "id": "3BLEaHfqTcGg",
        "outputId": "0cc46305-eaae-4c34-f381-f010f252c198"
      },
      "execution_count": null,
      "outputs": [
        {
          "output_type": "execute_result",
          "data": {
            "text/plain": [
              "[(0, 0.25),\n",
              " (1, 0.1875),\n",
              " (2, 0.140625),\n",
              " (3, 0.10546875),\n",
              " (4, 0.0791015625),\n",
              " (5, 0.059326171875),\n",
              " (6, 0.04449462890625),\n",
              " (7, 0.0333709716796875),\n",
              " (8, 0.025028228759765625),\n",
              " (9, 0.01877117156982422),\n",
              " (10, 0.014078378677368164),\n",
              " (11, 0.010558784008026123),\n",
              " (12, 0.007919088006019592),\n",
              " (13, 0.005939316004514694),\n",
              " (14, 0.004454487003386021),\n",
              " (15, 0.0033408652525395155),\n",
              " (16, 0.0025056489394046366),\n",
              " (17, 0.0018792367045534775),\n",
              " (18, 0.001409427528415108),\n",
              " (19, 0.001057070646311331),\n",
              " (20, 0.0007928029847334983),\n",
              " (21, 0.0005946022385501237),\n",
              " (22, 0.0004459516789125928),\n",
              " (23, 0.0003344637591844446),\n",
              " (24, 0.00025084781938833345),\n",
              " (25, 0.00018813586454125009),\n",
              " (26, 0.00014110189840593756),\n",
              " (27, 0.00010582642380445317),\n",
              " (28, 7.936981785333988e-05),\n",
              " (29, 5.952736339000491e-05),\n",
              " (30, 4.464552254250368e-05)]"
            ]
          },
          "metadata": {},
          "execution_count": 67
        }
      ]
    },
    {
      "cell_type": "code",
      "source": [
        "df = pd.DataFrame(pn_range, columns=['customers', 'probability'])\n",
        "df.plot(kind='bar', x='customers')"
      ],
      "metadata": {
        "id": "Hm__k_x0dZie",
        "colab": {
          "base_uri": "https://localhost:8080/",
          "height": 470
        },
        "outputId": "03ca5379-41d0-40a1-e0f2-8b8abdf2dea0"
      },
      "execution_count": null,
      "outputs": [
        {
          "output_type": "execute_result",
          "data": {
            "text/plain": [
              "<Axes: xlabel='customers'>"
            ]
          },
          "metadata": {},
          "execution_count": 68
        },
        {
          "output_type": "display_data",
          "data": {
            "text/plain": [
              "<Figure size 640x480 with 1 Axes>"
            ],
            "image/png": "[encoded data removed]"
          },
          "metadata": {}
        }
      ]
    },
    {
      "cell_type": "markdown",
      "source": [
        "## 4) Factor de utilización"
      ],
      "metadata": {
        "id": "CLfbZP8PUwxM"
      }
    },
    {
      "cell_type": "markdown",
      "source": [
        "Este valor se obtiene mediante la siguiente fórmula:\n",
        "\n",
        "![rho.png](data:image/png;base64,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)"
      ],
      "metadata": {
        "id": "0hogQbZCa3oE"
      }
    },
    {
      "cell_type": "code",
      "source": [
        "def rho(lmbda, mu):\n",
        "  return lmbda / mu"
      ],
      "metadata": {
        "id": "AltIPJsgUgrv"
      },
      "execution_count": null,
      "outputs": []
    },
    {
      "cell_type": "code",
      "source": [
        "rho(lmbda, mu)"
      ],
      "metadata": {
        "id": "C3BnRAdSVZgy",
        "colab": {
          "base_uri": "https://localhost:8080/"
        },
        "outputId": "ec7a2906-9199-469e-e898-033c30fa84a5"
      },
      "execution_count": null,
      "outputs": [
        {
          "output_type": "execute_result",
          "data": {
            "text/plain": [
              "0.75"
            ]
          },
          "metadata": {},
          "execution_count": 70
        }
      ]
    },
    {
      "cell_type": "markdown",
      "source": [
        "## 5) Cantidad media de clientes en el sistema."
      ],
      "metadata": {
        "id": "Hcs4r5CAWAem"
      }
    },
    {
      "cell_type": "markdown",
      "source": [
        "Esta métrica se obtiene aplicando la siguiente fórmula:\n",
        "\n",
        "![ls.png](data:image/png;base64,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)"
      ],
      "metadata": {
        "id": "RICDye3abY37"
      }
    },
    {
      "cell_type": "code",
      "source": [
        "def Ls(lmbda, mu):\n",
        "  return lmbda * Ws(lmbda, mu)"
      ],
      "metadata": {
        "id": "AZIqbemDVblb"
      },
      "execution_count": null,
      "outputs": []
    },
    {
      "cell_type": "code",
      "source": [
        "Ls(lmbda, mu)"
      ],
      "metadata": {
        "id": "4bwNZdNRWVZO",
        "colab": {
          "base_uri": "https://localhost:8080/"
        },
        "outputId": "d8a85548-b5c7-4b59-ab0b-35a6f86919cc"
      },
      "execution_count": null,
      "outputs": [
        {
          "output_type": "execute_result",
          "data": {
            "text/plain": [
              "3.0"
            ]
          },
          "metadata": {},
          "execution_count": 72
        }
      ]
    },
    {
      "cell_type": "markdown",
      "source": [
        "## 6) Cantidad media de clientes en la cola."
      ],
      "metadata": {
        "id": "ffXhVj5oW-EA"
      }
    },
    {
      "cell_type": "markdown",
      "source": [
        "Esta métrica se obtiene aplicando la siguiente fórmula:\n",
        "\n",
        "![lq.png](data:image/png;base64,iVBORw0KGgoAAAANSUhEUgAAAKgAAABTCAYAAAALHkxuAAAAAXNSR0IArs4c6QAAAARnQU1BAACxjwv8YQUAAAAJcEhZcwAADsMAAA7DAcdvqGQAAA3aSURBVHhe7Z0LsFVTGID/W4q8E/IopUgoj1CIQZhUUma8apRURkxGGK9U4xFXo1HeGo+KiKgoklHyjEhNKnmmoiJv8kyW9f13ndu+595T97Hvvfuc+38zZ7p77dO5++79n3/9r/WvPOcRw0gotcK/hpFITECNRGMCaiQaE1Aj0ZiAGonGBNRINCagRqIxATUSjQmokWhMQI1EYwJqJBoTUCPRmIBmMXPnzpX+/ftLz549ZcqUKbJx48ZwJncwAc1SXnnlFbnzzjulRYsW8s8//8gFF1wgjz32WDibO1i5XRbw+++/y6pVq6RZs2ay9dZbq0COGTNGevfuLTvttJP89ddfcs455+h7p06dKrVr19afcwHToAln3rx50qZNGznooIOkR48e8scff6gA9urVS4UTttlmG2natKnsvvvuOSWcYAKaYJYuXSp9+/ZVrbn99tvLggUL5Ntvv1Uh3HnnncO7RNavXy/Lli2TU089NYzkDiagCYVp+8EHH5T8/Hz58MMP9d+6deuWqCHffPNNad68uXTt2jWM5A4moAnl3XfflXbt2skZZ5yhxy1btpS99tpLtttuOz1OsXLlSpk1a5bcdNNNsu2224bR3MEENKFgc5511lnhSARflmm9Xr16YUTkp59+kmeffVYGDRokDRs2DKO5hQloQsHhwflJgee+4447FmpJ7M777rtPjj76aD1GkxILnT17th7nDISZjGTjHSN3wgknuIEDB+qxt0/dgAEDXK1atQgRFr4OPvhgt2bNGn1PrmAaNOH8/fffMmTIEHnjjTdkzz331DG8+gceeEAzR/4ZFr6WLFlS+J5cwQQ04eDJjx8/Xn/eY4899N+ahAlogpk5c6bcfPPNsssuu8jxxx8v9evXD2dqDiagCeWTTz6Ryy+/XP78808ZNmyYNGjQwATUSAaEjxDOzz//XC699FLp3LmzZpCi2aOagglowvj33391WqdaqVOnTuogrVu3TnPwhJlqGiagCWPs2LHqGB1wwAEyevRo1ZpfffWV5OXlFQnS1xRMQBMEoSQ0JunMe+65R/bbbz8d/+KLLzSkVKtWwePi57vvvls+/fRTPc5lTEATwooVK+Syyy6Tn3/+WW688UY5+eSTwxmR1atXy3fffSc//vijHk+cOFG+//77QgHOZWIpWP7tt9/0xqbDNx7vM5qyM4rD/aMi/vnnn5eLL75YRo0apcH4FFdccYXcddddctRRR+n9xCYlB08NaM6DgFaUhQsXusGDB7tdd921MO3WokULN3z4cOc1Q3iXURLeKXI33HCDq127tuvQoYPzmjGc2cSTTz7pvMDqfd1///3dvHnzwpncJ9YlHyw7eOaZZzTdNmPGDDnssMPCGSMTTN1oQ1Ka3bp1k3333Tec2QSFInPmzNH3nHTSSbLDDjuEM7lPbAJKdU2XLl3U0D/zzDNl0qRJstVWW4WzhlE+YnOSMOSXL1+u4RA/VZlwGrEQm4B6O7Qw24ExbxhxEJuAvvbaa7JhwwYNfXhDPowaRsWIxQb94YcfpGPHjvLBBx9o7phK78rg5ZdflieeeCIclQ6cigsvvDAcGdlGLBqUjAb2Z506deTEE08Mo/Hz66+/6u8py4uAtpG9xKJByRlfeeWV0qhRI11hSDsWw4iDCgso1TesPiQLwjT/3HPPZUXmCM360ksv6VIJo/JgLf95550XjspOhQWUHDJ5Y6bTW2+9VQYPHhzOJJv3339fm2+ZgFYudES59957y620Kiyg06dP1wwS9ue0adM2a4OSDWnVqpXstttuYaRsPP7443LbbbeFo9LBtdHUwMhOKiygV199tYwcOVIFjyLbTAu7cKTQsBQ9lLcynCwV3dvKwrHHHitnn312ODKyDgS0vHiv2rVv3x4Bd97OcBs3bgxnirJu3TrXvXt3N3To0DBiGKWjQmEmskd0YANK62h4FYX6RWoXTzvtNHn11VeL1DgaRmko1xTP+hiWJdA8gIVdKahhpGcl+XiElTrH//77T88deeSRGmhnCa1hlJYK26AVgaUMa9euLUyN5moDLKP8xJaLLwukRgnsz58/XxeCUaaXi/3VcwHWPzFL8syqgyoXUKb9iy66SLNO5557rnr0FOIec8wx4R1GUsCHoO04vUkPP/xw7f1U1VS5gI4bN05++eUXFVIgYE5LQZbZ5hrvvfeeNqLNRti4gUV8FAAROlyzZo12eo6CZiX2jZatLKpUQHGuSIXSZ4hlCwjqI488oktDyhu8TyKkf6noevrpp+XAAw8Mo9kFy1BoK06UhpQw3Z1JxkRh0R5+xHXXXacCXRlUqYAikBQ184fxEMlCsSaHCvxcAW1yxx13yKJFi+SWW24p3Ikjm2DV6Ndff62CR4oSDcpaqfQIDKsmaNGD8JLiTg8zxkGVCihdg9GePLjzzz9fQ1D8kdg3uQImzFNPPSXXX3991vaM57ovueSSItdPCLGkECHxb96L4qHZROwQZqpq1q5dq12C/TToOnXqpD8njS+//NJNnDjRzZo1y23YsCGMFuA9Wjd58mTnzRW3fv36MOrc4sWLndc07v777w8jm8c7jPoZfFb6cmN+J7/bC7teS3XC8+rcubNbvnx5GCnO7Nmz3T777OPmzJkTRuKhWgQUeACkP/Pz88NIsvBaQVO4/JvOww8/rOvYacudElDSvP369XN+unMfffSRjm0Jb+K4evXqldi6e9myZa5Ro0auQYMG1boOnnX7w4YNc95PcN98800YLY73+N0RRxzhunTp4rw9GkYrTpV78UBMjaIR9vfhZ4L1SYLrYY0VMdrTTz89jBbAGnVsZ8wT2iKmtoXxQqnOBNGIJk2a6NiW4HPo/+kFvVjrbu4N13HIIYfojh/VBc4SZYk4telb4EShdynXyn3j2mMjCKoRYerUqdrJo3Xr1rqBQRTv1aqWpIvKggULwmiBVmVTg0GDBoWRzeOdENeyZUvn7Tw3Y8aMMFoAJk/Xrl1dXl6eGzlyZBiteubPn+8aN26sMwnXk6kYKMWYMWP0mq+66qowUnGqRYMmHTQbyQOiCzh2UdAQfqqTQw89tEjs9u2331atSu+k0sAenN621OUxfmoMowV89tlnGn/0X4Jqi3CgvYmD8reecsopsvfeexd218sE9wqnl/gvjTziwAQ0DXpxvvXWWzqdpU/vCO0LL7ygVfhsO5jycgmZEciG0hTDIMh8zpa+BEQ3MiUwEACutSwvwnylgXg1ISaSDNTSUoVWmhpequdZ4sFymrgE1Kb4NCZNmuTq1Knj2rRpo956lEWLFrmGDRvqi59T4I1TF8v0NmHChDCaGRqq0QTMP1D1fqN4m9R17NhRzQVvp4fR4nCOx1eW17XXXhv+d2aYxm+//Xa9B23btnWrV692ffv2dd4ODe/IzNy5c50XZHXu4oo8mAaNgGYjdUcDCqa1dG1ITStBbLbHjmo2pj6yLP5+6v/dEu+8846u5eIzMBWifPzxx1pnS2UXa/ozwR6emCJlefXp0yf878yg2b2AqlYnrkmiAVOkNJk+/n5gw1tKLmNBxdRQ+NY3a9bMeY+1WDyP0Imf6lSzpcc50To4EdzOLWkawjY9e/bU9/ppNIxuAqcITUy4pqrjw0uWLHHNmzd33rwpnAlw5rx37vwXV483x8yZM9XpI2y2uZBUWTANGgFHB1vNe67Fcug4NanCCcJCUdCgKY1aUiPfKOypiQYlhXjccceF0QJI+06ePFk/D/s32sS2siHch1PE9bE5bWqpMM4Su45Em8HR+4DrTAe7kxkEh6q8687SMQENkENnbT83GOGJPhAW6tEBGeGj9xRxToojWMSHWQCkcBGo6AqDksABI8/N50eX4lJ0QfkhXwSmVcwIQJhTrb8rC5y1oUOHqnOG8+dt1cJ96RFcfv+qVav0GBOE2l1vc+txFMwf7h8b3Mb15TIBDWBnpUrjFi9erA/JT+WqSVhXxZIVIHiPfcWSF7x3tB3wUKibJGCPJiwJ3p+ycdE2bNDFmvFrrrlGevfurZ+B4GLPEkVg52K0elzaKBMPPfSQVpURaE8F5dNhaxy+QGh2Xumrd/mi8oXFbieBERthqq/x+Afk2rVrp14ot4WXdxTUo8Wz9g9RPVteXoO6IUOGFMvRU1tAAN8Lehgpitc+6u3THj31O+rWret69Oih9i9JgKZNm6oN6gVA6xSwASsT8v2kU4lMeAELo5sg/07EgWvFNiV6gB2dDqlab+Y4L8TOa+QwWnGqdU1SUkCbde/eXfr16ydt27bVaZgYJzHKVOAdE4AUHlsUElhnCk5pzxTEGdG41Lfm5+eH0U3gHVP0i9ZMpXlZSRC1d+kf8Prrr2sJG158tKIobvibqM9l9iDmmmnVLZX0lA8yrWfauOHRRx/VphqYQ61btw6jMaBiWsOhagkN4oUmjJQfCkW8PaobS0RBE6FhKLzINYjrUigybty4MBIfNd4GpY5xxIgRah9urhiitKANhw8frjWvRAQA+4ziGLRjrm1nyKzBvk70YO3Vq1cYjZEgqDUWbEvvmLhWrVrFFrsDbya4Pn36aGwRrUp2hdK6F198Mbwj++F+DRw40E2ZMiWMxE+NF1DvQavj4+3CMBIfpEpJFZLOJPjfrVu3IgXO2Q5F1unVXnFT450kjH+mXvYootChMiCOSHiJ3YtJYRqlx7x4I9FYoN5INCagRqIxATUSjQmokWhMQI1EYwJqJBoTUCPBiPwPTFyI8vMzreUAAAAASUVORK5CYII=)"
      ],
      "metadata": {
        "id": "kacxUEjgbm61"
      }
    },
    {
      "cell_type": "code",
      "source": [
        "def Lq(lmbda, mu):\n",
        "  lmbda_squared = math.pow(lmbda, 2)\n",
        "  return lmbda_squared / (mu * (mu - lmbda))"
      ],
      "metadata": {
        "id": "f09-YCw8WrRQ"
      },
      "execution_count": null,
      "outputs": []
    },
    {
      "cell_type": "code",
      "source": [
        "Lq(lmbda, mu)"
      ],
      "metadata": {
        "id": "klCYyRMFYLRn",
        "colab": {
          "base_uri": "https://localhost:8080/"
        },
        "outputId": "d203f88f-3c3c-485b-981d-6e237d8ebd6d"
      },
      "execution_count": null,
      "outputs": [
        {
          "output_type": "execute_result",
          "data": {
            "text/plain": [
              "2.25"
            ]
          },
          "metadata": {},
          "execution_count": 74
        }
      ]
    },
    {
      "cell_type": "markdown",
      "source": [
        "# **EJEMPLO**\n",
        "## En un servicio de fotocopiado llegan 5 cliente cada hora y el operador de la fotocopiadora puede atenderlos a una tasa de 6 clientes cada hora.\n",
        "\n",
        "### Determine\n",
        "1.   Cantidad de clientes en el sistema.\n",
        "2.   Tiempo total que esperan los clientes en el sistema.\n",
        "3.   Cantidad de personas formadas en la fila.\n",
        "4.   Tiempo en el cual los clientes esperan en fila.\n",
        "5.   Porcentaje de uso del servidor.\n",
        "6.   Porcentaje de tiempo en el cual el servidor está ocioso.\n",
        "7.   Probabilidad de que se encuentren dos clientes en el sistema.\n",
        "\n"
      ],
      "metadata": {
        "id": "OhR2sjtG8Ruu"
      }
    },
    {
      "cell_type": "code",
      "source": [
        "lmbda = 5   # clientes por hora\n",
        "mu = 6  # Clientes por hora"
      ],
      "metadata": {
        "id": "vptmDZhc9SvM"
      },
      "execution_count": null,
      "outputs": []
    },
    {
      "cell_type": "code",
      "source": [
        "# 1.\n",
        "str(Ls(lmbda, mu)) + ' personas.'"
      ],
      "metadata": {
        "colab": {
          "base_uri": "https://localhost:8080/",
          "height": 35
        },
        "id": "3pCp-yKp9MLO",
        "outputId": "604d4b55-3295-477c-c067-a2894da95414"
      },
      "execution_count": null,
      "outputs": [
        {
          "output_type": "execute_result",
          "data": {
            "text/plain": [
              "'5.0 personas.'"
            ],
            "application/vnd.google.colaboratory.intrinsic+json": {
              "type": "string"
            }
          },
          "metadata": {},
          "execution_count": 76
        }
      ]
    },
    {
      "cell_type": "code",
      "source": [
        "# 2.\n",
        "str(Ws(lmbda, mu)) + ' hora/s.'"
      ],
      "metadata": {
        "colab": {
          "base_uri": "https://localhost:8080/",
          "height": 35
        },
        "id": "HM8eJHDu9bnl",
        "outputId": "b55ab3fd-e8d9-4a29-cd81-c03d756af19a"
      },
      "execution_count": null,
      "outputs": [
        {
          "output_type": "execute_result",
          "data": {
            "text/plain": [
              "'1.0 hora/s.'"
            ],
            "application/vnd.google.colaboratory.intrinsic+json": {
              "type": "string"
            }
          },
          "metadata": {},
          "execution_count": 77
        }
      ]
    },
    {
      "cell_type": "code",
      "source": [
        "# 3.\n",
        "str(round(Lq(lmbda, mu), 4)) + ' personas en la cola.'"
      ],
      "metadata": {
        "colab": {
          "base_uri": "https://localhost:8080/",
          "height": 35
        },
        "id": "zsI_moVl9d7W",
        "outputId": "33c9e730-a06a-457d-f936-21f557ffaccb"
      },
      "execution_count": null,
      "outputs": [
        {
          "output_type": "execute_result",
          "data": {
            "text/plain": [
              "'4.1667 personas en la cola.'"
            ],
            "application/vnd.google.colaboratory.intrinsic+json": {
              "type": "string"
            }
          },
          "metadata": {},
          "execution_count": 78
        }
      ]
    },
    {
      "cell_type": "code",
      "source": [
        "# 4.\n",
        "_wq = Wq(lmbda, mu)\n",
        "str(round(_wq , 4)) + ' hora/s.'"
      ],
      "metadata": {
        "colab": {
          "base_uri": "https://localhost:8080/",
          "height": 35
        },
        "id": "_fCbNouV9itT",
        "outputId": "b7e4185c-b089-4d84-e70f-74c93296ee01"
      },
      "execution_count": null,
      "outputs": [
        {
          "output_type": "execute_result",
          "data": {
            "text/plain": [
              "'0.8333 hora/s.'"
            ],
            "application/vnd.google.colaboratory.intrinsic+json": {
              "type": "string"
            }
          },
          "metadata": {},
          "execution_count": 79
        }
      ]
    },
    {
      "cell_type": "code",
      "source": [
        "# 5.\n",
        "_rho = rho(lmbda, mu)\n",
        "str(round(_rho * 100, 4)) + '%'"
      ],
      "metadata": {
        "colab": {
          "base_uri": "https://localhost:8080/",
          "height": 35
        },
        "id": "c-ZTZi-Y9kl7",
        "outputId": "239eb6ca-7c3a-4663-ac99-8381db51890b"
      },
      "execution_count": null,
      "outputs": [
        {
          "output_type": "execute_result",
          "data": {
            "text/plain": [
              "'83.3333%'"
            ],
            "application/vnd.google.colaboratory.intrinsic+json": {
              "type": "string"
            }
          },
          "metadata": {},
          "execution_count": 80
        }
      ]
    },
    {
      "cell_type": "code",
      "source": [
        "# 6.\n",
        "_pn = Pn(0, lmbda, mu)\n",
        "str(round(_pn * 100, 4)) + '%'"
      ],
      "metadata": {
        "colab": {
          "base_uri": "https://localhost:8080/",
          "height": 35
        },
        "id": "w6lYJE1q9unf",
        "outputId": "1d650a8a-9d8f-4bcf-e97a-aa083b23d756"
      },
      "execution_count": null,
      "outputs": [
        {
          "output_type": "execute_result",
          "data": {
            "text/plain": [
              "'16.6667%'"
            ],
            "application/vnd.google.colaboratory.intrinsic+json": {
              "type": "string"
            }
          },
          "metadata": {},
          "execution_count": 81
        }
      ]
    },
    {
      "cell_type": "code",
      "source": [
        "# 7.\n",
        "_pn = Pn(2, lmbda, mu)\n",
        "str(round(_pn * 100, 4)) + '%'"
      ],
      "metadata": {
        "colab": {
          "base_uri": "https://localhost:8080/",
          "height": 35
        },
        "id": "ZZIlAOBM90TQ",
        "outputId": "3c8d3ca3-14fe-46a3-bad2-f18104cd1aaf"
      },
      "execution_count": null,
      "outputs": [
        {
          "output_type": "execute_result",
          "data": {
            "text/plain": [
              "'11.5741%'"
            ],
            "application/vnd.google.colaboratory.intrinsic+json": {
              "type": "string"
            }
          },
          "metadata": {},
          "execution_count": 82
        }
      ]
    },
    {
      "cell_type": "code",
      "source": [],
      "metadata": {
        "id": "tJn4isMH973n"
      },
      "execution_count": null,
      "outputs": []
    }
  ]
}